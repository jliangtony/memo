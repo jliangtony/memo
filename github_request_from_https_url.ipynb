{
 "nbformat": 4,
 "nbformat_minor": 0,
 "metadata": {
  "colab": {
   "provenance": [],
   "authorship_tag": "ABX9TyPvBHid6+oTEB7l5vCyUej8",
   "include_colab_link": true
  },
  "kernelspec": {
   "name": "python3",
   "display_name": "Python 3"
  },
  "language_info": {
   "name": "python"
  }
 },
 "cells": [
  {
   "cell_type": "markdown",
   "metadata": {
    "id": "view-in-github",
    "colab_type": "text"
   },
   "source": [
    "<a href=\"https://colab.research.google.com/github/jliangtony/memo/blob/main/github_request_from_https_url.ipynb\" target=\"_parent\"><img src=\"https://colab.research.google.com/assets/colab-badge.svg\" alt=\"Open In Colab\"/></a>"
   ]
  },
  {
   "cell_type": "markdown",
   "source": [
    "GitHub\u306e\u30a2\u30af\u30bb\u30b9\u30c8\u30fc\u30af\u30f3\u3092\u53d6\u5f97\u3059\u308b\u624b\u9806\u3092\u8aac\u660e\u3057\u307e\u3059\u3002\n",
    "\u30a2\u30af\u30bb\u30b9\u30c8\u30fc\u30af\u30f3\u306e\u767a\u884c\u624b\u9806\n",
    "1. GitHub\u306b\u30ed\u30b0\u30a4\u30f3\n",
    "GitHub\u30a6\u30a7\u30d6\u30b5\u30a4\u30c8\u306b\u30ed\u30b0\u30a4\u30f3\u3057\u307e\u3059\n",
    "\u753b\u9762\u53f3\u4e0a\u306e\u30d7\u30ed\u30d5\u30a3\u30fc\u30eb\u30a2\u30a4\u30b3\u30f3\u3092\u30af\u30ea\u30c3\u30af\n",
    "2. \u8a2d\u5b9a\u753b\u9762\u3078\u79fb\u52d5\n",
    "Settings \u2192 Developer settings \u3092\u9078\u629e\n",
    "\u5de6\u30e1\u30cb\u30e5\u30fc\u304b\u3089\u300cPersonal access tokens\u300d\u3092\u9078\u629e\n",
    "\u300cGenerate new token (classic)\u300d\u3092\u30af\u30ea\u30c3\u30af\n",
    "3. \u30c8\u30fc\u30af\u30f3\u8a2d\u5b9a\n",
    "Note: \u30c8\u30fc\u30af\u30f3\u306e\u7528\u9014\u3092\u8a18\u5165\n",
    "Expiration: \u30c8\u30fc\u30af\u30f3\u306e\u6709\u52b9\u671f\u9650\u3092\u8a2d\u5b9a\n",
    "Select scopes: \u5fc5\u8981\u306a\u6a29\u9650\u3092\u9078\u629e\n",
    "\u30ea\u30dd\u30b8\u30c8\u30ea\u64cd\u4f5c\u306e\u5834\u5408\u306f\u300crepo\u300d\u306b\u30c1\u30a7\u30c3\u30af\n",
    "4. \u30c8\u30fc\u30af\u30f3\u751f\u6210\n",
    "\u300cGenerate token\u300d\u30dc\u30bf\u30f3\u3092\u30af\u30ea\u30c3\u30af\n",
    "\u8868\u793a\u3055\u308c\u305f\u30c8\u30fc\u30af\u30f3\u3092\u5fc5\u305a\u30b3\u30d4\u30fc\u3057\u3066\u4fdd\u5b58\uff08\u3053\u306e\u753b\u9762\u3067\u3057\u304b\u8868\u793a\u3055\u308c\u307e\u305b\u3093\uff09\n",
    "\n",
    "\u30b3\u30fc\u30c9\u3067\u306e\u4f7f\u7528\u65b9\u6cd5\n",
    "\n",
    "```\n",
    "headers = {\n",
    "    \"Accept\": \"application/vnd.github+json\",\n",
    "    \"Authorization\": f\"Bearer {YOUR_TOKEN}\"  # \u30b3\u30d4\u30fc\u3057\u305f\u30c8\u30fc\u30af\u30f3\u3092\u8a2d\u5b9a\n",
    "}\n",
    "```"
   ],
   "metadata": {
    "id": "9hqbXh9KJRe9"
   }
  },
  {
   "cell_type": "code",
   "execution_count": null,
   "metadata": {
    "id": "xi_Kfz-IEOcI"
   },
   "outputs": [],
   "source": [
    "import requests\n",
    "import base64\n",
    "import re\n",
    "from urllib.parse import urlparse\n",
    "\n",
    "YOUR_TOKEN = \"xxxxxxxxxxxxxxxxxxxxxxxxxx\"\n",
    "\n",
    "def parse_github_url(url):\n",
    "    \"\"\"GitHub\u306eURL\u304b\u3089owner\u540d\u3068\u30ea\u30dd\u30b8\u30c8\u30ea\u540d\u3092\u62bd\u51fa\"\"\"\n",
    "    pattern = r\"github\\.com/([^/]+)/([^/]+)\"\n",
    "    match = re.search(pattern, url)\n",
    "    if not match:\n",
    "        raise ValueError(\"Invalid GitHub URL format\")\n",
    "    return match.group(1), match.group(2)\n",
    "\n",
    "def is_github_url(url):\n",
    "    \"\"\"URL\u304cGitHub\u306eURL\u304b\u3069\u3046\u304b\u3092\u78ba\u8a8d\"\"\"\n",
    "    parsed = urlparse(url)\n",
    "    return parsed.netloc == \"github.com\"\n",
    "\n",
    "def get_repo_contents(owner, repo, path=\"\"):\n",
    "    \"\"\"\u30ea\u30dd\u30b8\u30c8\u30ea\u306e\u30b3\u30f3\u30c6\u30f3\u30c4\u3092\u53d6\u5f97\"\"\"\n",
    "    url = f\"https://api.github.com/repos/{owner}/{repo}/contents/{path}\"\n",
    "    headers = {\n",
    "        \"Accept\": \"application/vnd.github+json\",\n",
    "        \"Authorization\": f\"Bearer {YOUR_TOKEN}\"\n",
    "    }\n",
    "    response = requests.get(url, headers=headers)\n",
    "\n",
    "    if response.status_code == 200:\n",
    "        return response.json()\n",
    "    return None\n",
    "\n",
    "def get_file_content(owner, repo, path):\n",
    "    \"\"\"\u30d5\u30a1\u30a4\u30eb\u306e\u5185\u5bb9\u3092\u53d6\u5f97\"\"\"\n",
    "    url = f\"https://api.github.com/repos/{owner}/{repo}/contents/{path}\"\n",
    "    headers = {\n",
    "        \"Accept\": \"application/vnd.github+json\",\n",
    "        \"Authorization\": f\"Bearer {YOUR_TOKEN}\"\n",
    "    }\n",
    "    response = requests.get(url, headers=headers)\n",
    "\n",
    "    if response.status_code == 200:\n",
    "        content = response.json()\n",
    "        if content.get(\"encoding\") == \"base64\":\n",
    "            return base64.b64decode(content[\"content\"]).decode()\n",
    "    return None\n",
    "\n",
    "def analyze_github_repo(github_url):\n",
    "    \"\"\"GitHub\u30ea\u30dd\u30b8\u30c8\u30ea\u3092\u89e3\u6790\"\"\"\n",
    "    try:\n",
    "        if not is_github_url(github_url):\n",
    "            raise ValueError(\"This is not a GitHub URL\")\n",
    "\n",
    "        owner, repo = parse_github_url(github_url)\n",
    "        contents = get_repo_contents(owner, repo)\n",
    "\n",
    "        if contents:\n",
    "            print(f\"\\nAnalyzing repository: {owner}/{repo}\")\n",
    "            print(\"\\nRepository contents:\")\n",
    "            for item in contents:\n",
    "                print(f\"{'[DIR] ' if item['type'] == 'dir' else '[FILE]'} {item['path']}\")\n",
    "        else:\n",
    "            print(\"No contents found or repository access denied\")\n",
    "\n",
    "    except ValueError as e:\n",
    "        print(f\"Error: {str(e)}\")\n",
    "    except Exception as e:\n",
    "        print(f\"An error occurred: {str(e)}\")\n",
    "\n",
    "# \u4f7f\u7528\u4f8b\n",
    "github_url = \"https://github.com/xxxxxxx/xxxxxxxx\"\n",
    "analyze_github_repo(github_url)\n"
   ]
  },
  {
   "cell_type": "code",
   "source": [],
   "metadata": {
    "id": "bkU2IizxFhyS"
   },
   "execution_count": null,
   "outputs": []
  }
 ]
}