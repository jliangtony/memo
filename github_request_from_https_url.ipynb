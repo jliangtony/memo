{
  "nbformat": 4,
  "nbformat_minor": 0,
  "metadata": {
    "colab": {
      "provenance": [],
      "authorship_tag": "ABX9TyPvBHid6+oTEB7l5vCyUej8",
      "include_colab_link": true
    },
    "kernelspec": {
      "name": "python3",
      "display_name": "Python 3"
    },
    "language_info": {
      "name": "python"
    }
  },
  "cells": [
    {
      "cell_type": "markdown",
      "metadata": {
        "id": "view-in-github",
        "colab_type": "text"
      },
      "source": [
        "<a href=\"https://colab.research.google.com/github/jliangtony/memo/blob/main/github_request_from_https_url.ipynb\" target=\"_parent\"><img src=\"https://colab.research.google.com/assets/colab-badge.svg\" alt=\"Open In Colab\"/></a>"
      ]
    },
    {
      "cell_type": "markdown",
      "source": [
        "GitHubのアクセストークンを取得する手順を説明します。\n",
        "アクセストークンの発行手順\n",
        "1. GitHubにログイン\n",
        "GitHubウェブサイトにログインします\n",
        "画面右上のプロフィールアイコンをクリック\n",
        "2. 設定画面へ移動\n",
        "Settings → Developer settings を選択\n",
        "左メニューから「Personal access tokens」を選択\n",
        "「Generate new token (classic)」をクリック\n",
        "3. トークン設定\n",
        "Note: トークンの用途を記入\n",
        "Expiration: トークンの有効期限を設定\n",
        "Select scopes: 必要な権限を選択\n",
        "リポジトリ操作の場合は「repo」にチェック\n",
        "4. トークン生成\n",
        "「Generate token」ボタンをクリック\n",
        "表示されたトークンを必ずコピーして保存（この画面でしか表示されません）\n",
        "\n",
        "コードでの使用方法\n",
        "\n",
        "```\n",
        "headers = {\n",
        "    \"Accept\": \"application/vnd.github+json\",\n",
        "    \"Authorization\": f\"Bearer {YOUR_TOKEN}\"  # コピーしたトークンを設定\n",
        "}\n",
        "```"
      ],
      "metadata": {
        "id": "9hqbXh9KJRe9"
      }
    },
    {
      "cell_type": "code",
      "execution_count": null,
      "metadata": {
        "id": "xi_Kfz-IEOcI"
      },
      "outputs": [],
      "source": [
        "import requests\n",
        "import base64\n",
        "import re\n",
        "from urllib.parse import urlparse\n",
        "\n",
        "YOUR_TOKEN = \"xxxxxxxxxxxxxxxxxxxxxxxxxx\"\n",
        "\n",
        "def parse_github_url(url):\n",
        "    \"\"\"GitHubのURLからowner名とリポジトリ名を抽出\"\"\"\n",
        "    pattern = r\"github\\.com/([^/]+)/([^/]+)\"\n",
        "    match = re.search(pattern, url)\n",
        "    if not match:\n",
        "        raise ValueError(\"Invalid GitHub URL format\")\n",
        "    return match.group(1), match.group(2)\n",
        "\n",
        "def is_github_url(url):\n",
        "    \"\"\"URLがGitHubのURLかどうかを確認\"\"\"\n",
        "    parsed = urlparse(url)\n",
        "    return parsed.netloc == \"github.com\"\n",
        "\n",
        "def get_repo_contents(owner, repo, path=\"\"):\n",
        "    \"\"\"リポジトリのコンテンツを取得\"\"\"\n",
        "    url = f\"https://api.github.com/repos/{owner}/{repo}/contents/{path}\"\n",
        "    headers = {\n",
        "        \"Accept\": \"application/vnd.github+json\",\n",
        "        \"Authorization\": f\"Bearer {YOUR_TOKEN}\"\n",
        "    }\n",
        "    response = requests.get(url, headers=headers)\n",
        "\n",
        "    if response.status_code == 200:\n",
        "        return response.json()\n",
        "    return None\n",
        "\n",
        "def get_file_content(owner, repo, path):\n",
        "    \"\"\"ファイルの内容を取得\"\"\"\n",
        "    url = f\"https://api.github.com/repos/{owner}/{repo}/contents/{path}\"\n",
        "    headers = {\n",
        "        \"Accept\": \"application/vnd.github+json\",\n",
        "        \"Authorization\": \"Bearer YOUR_TOKEN\"\n",
        "    }\n",
        "    response = requests.get(url, headers=headers)\n",
        "\n",
        "    if response.status_code == 200:\n",
        "        content = response.json()\n",
        "        if content.get(\"encoding\") == \"base64\":\n",
        "            return base64.b64decode(content[\"content\"]).decode()\n",
        "    return None\n",
        "\n",
        "def analyze_github_repo(github_url):\n",
        "    \"\"\"GitHubリポジトリを解析\"\"\"\n",
        "    try:\n",
        "        if not is_github_url(github_url):\n",
        "            raise ValueError(\"This is not a GitHub URL\")\n",
        "\n",
        "        owner, repo = parse_github_url(github_url)\n",
        "        contents = get_repo_contents(owner, repo)\n",
        "\n",
        "        if contents:\n",
        "            print(f\"\\nAnalyzing repository: {owner}/{repo}\")\n",
        "            print(\"\\nRepository contents:\")\n",
        "            for item in contents:\n",
        "                print(f\"{'[DIR] ' if item['type'] == 'dir' else '[FILE]'} {item['path']}\")\n",
        "        else:\n",
        "            print(\"No contents found or repository access denied\")\n",
        "\n",
        "    except ValueError as e:\n",
        "        print(f\"Error: {str(e)}\")\n",
        "    except Exception as e:\n",
        "        print(f\"An error occurred: {str(e)}\")\n",
        "\n",
        "# 使用例\n",
        "github_url = \"https://github.com/xxxxxxx/xxxxxxxx\"\n",
        "analyze_github_repo(github_url)\n"
      ]
    },
    {
      "cell_type": "code",
      "source": [],
      "metadata": {
        "id": "bkU2IizxFhyS"
      },
      "execution_count": null,
      "outputs": []
    }
  ]
}